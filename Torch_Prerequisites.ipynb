{
  "nbformat": 4,
  "nbformat_minor": 0,
  "metadata": {
    "colab": {
      "provenance": [],
      "gpuType": "T4",
      "authorship_tag": "ABX9TyNhlV9Gdja1FJaBc5lIfl8D",
      "include_colab_link": true
    },
    "kernelspec": {
      "name": "python3",
      "display_name": "Python 3"
    },
    "language_info": {
      "name": "python"
    },
    "accelerator": "GPU"
  },
  "cells": [
    {
      "cell_type": "markdown",
      "metadata": {
        "id": "view-in-github",
        "colab_type": "text"
      },
      "source": [
        "<a href=\"https://colab.research.google.com/github/Jay-hv7/DL-Practice/blob/main/Torch_Prerequisites.ipynb\" target=\"_parent\"><img src=\"https://colab.research.google.com/assets/colab-badge.svg\" alt=\"Open In Colab\"/></a>"
      ]
    },
    {
      "cell_type": "code",
      "execution_count": 1,
      "metadata": {
        "id": "FT5bLsaxJtJV"
      },
      "outputs": [],
      "source": [
        "import torch"
      ]
    },
    {
      "cell_type": "code",
      "source": [
        "import numpy as np"
      ],
      "metadata": {
        "id": "VvDfjMq5J9Ob"
      },
      "execution_count": 2,
      "outputs": []
    },
    {
      "cell_type": "code",
      "source": [
        "scalar = torch.tensor(2.0)\n",
        "scalar"
      ],
      "metadata": {
        "colab": {
          "base_uri": "https://localhost:8080/"
        },
        "id": "6FcN7hjxJ-0C",
        "outputId": "0704d19d-9431-44ce-c787-1d0ae78f06c5"
      },
      "execution_count": 3,
      "outputs": [
        {
          "output_type": "execute_result",
          "data": {
            "text/plain": [
              "tensor(2.)"
            ]
          },
          "metadata": {},
          "execution_count": 3
        }
      ]
    },
    {
      "cell_type": "code",
      "source": [
        "vector = torch.tensor([1,2,3])\n",
        "vector"
      ],
      "metadata": {
        "colab": {
          "base_uri": "https://localhost:8080/"
        },
        "id": "5sMmmFy5KEnB",
        "outputId": "bf2ceeb8-17d4-4259-f722-9bc8db420028"
      },
      "execution_count": 4,
      "outputs": [
        {
          "output_type": "execute_result",
          "data": {
            "text/plain": [
              "tensor([1, 2, 3])"
            ]
          },
          "metadata": {},
          "execution_count": 4
        }
      ]
    },
    {
      "cell_type": "code",
      "source": [
        "matrix = torch.tensor([[1,2,3],[4,5,6]])\n",
        "matrix"
      ],
      "metadata": {
        "colab": {
          "base_uri": "https://localhost:8080/"
        },
        "id": "pTkBN5fRKS3z",
        "outputId": "70cfaa95-afda-464b-9752-754f8056cc90"
      },
      "execution_count": 5,
      "outputs": [
        {
          "output_type": "execute_result",
          "data": {
            "text/plain": [
              "tensor([[1, 2, 3],\n",
              "        [4, 5, 6]])"
            ]
          },
          "metadata": {},
          "execution_count": 5
        }
      ]
    },
    {
      "cell_type": "code",
      "source": [
        "tensor3d = torch.tensor([\n",
        "    [[1,2,3],[3,4,5]],\n",
        "    [[5,8,9],[9,4,6]]\n",
        "])\n",
        "tensor3d"
      ],
      "metadata": {
        "colab": {
          "base_uri": "https://localhost:8080/"
        },
        "id": "Y-w_Mgw4KYim",
        "outputId": "264bc6ff-bd69-4123-b84c-49ba0b1ef57c"
      },
      "execution_count": 6,
      "outputs": [
        {
          "output_type": "execute_result",
          "data": {
            "text/plain": [
              "tensor([[[1, 2, 3],\n",
              "         [3, 4, 5]],\n",
              "\n",
              "        [[5, 8, 9],\n",
              "         [9, 4, 6]]])"
            ]
          },
          "metadata": {},
          "execution_count": 6
        }
      ]
    },
    {
      "cell_type": "code",
      "source": [
        "tensor3d.dtype"
      ],
      "metadata": {
        "colab": {
          "base_uri": "https://localhost:8080/"
        },
        "id": "e-c5KZ-SK8aN",
        "outputId": "50b5bc93-d1ff-421a-b783-15ea2c0b8564"
      },
      "execution_count": 7,
      "outputs": [
        {
          "output_type": "execute_result",
          "data": {
            "text/plain": [
              "torch.int64"
            ]
          },
          "metadata": {},
          "execution_count": 7
        }
      ]
    },
    {
      "cell_type": "markdown",
      "source": [
        "## setting datatype"
      ],
      "metadata": {
        "id": "9YpivxuaLdZ9"
      }
    },
    {
      "cell_type": "code",
      "source": [
        "vector = torch.tensor([1,2,3],dtype=torch.float32)\n",
        "vector.dtype"
      ],
      "metadata": {
        "colab": {
          "base_uri": "https://localhost:8080/"
        },
        "id": "4BBjkQ_PLTeu",
        "outputId": "bdf814dd-4868-4553-ffd7-3c756a13d3a8"
      },
      "execution_count": 8,
      "outputs": [
        {
          "output_type": "execute_result",
          "data": {
            "text/plain": [
              "torch.float32"
            ]
          },
          "metadata": {},
          "execution_count": 8
        }
      ]
    },
    {
      "cell_type": "markdown",
      "source": [
        "### new tensors with predefined"
      ],
      "metadata": {
        "id": "aUDpKKEYLrZP"
      }
    },
    {
      "cell_type": "code",
      "source": [
        "ones = torch.ones([1,2,3])\n",
        "ones"
      ],
      "metadata": {
        "colab": {
          "base_uri": "https://localhost:8080/"
        },
        "id": "4fYr3-GnLm-w",
        "outputId": "8c12d7a1-a3d1-4a49-eafb-76d468cc26ba"
      },
      "execution_count": 9,
      "outputs": [
        {
          "output_type": "execute_result",
          "data": {
            "text/plain": [
              "tensor([[[1., 1., 1.],\n",
              "         [1., 1., 1.]]])"
            ]
          },
          "metadata": {},
          "execution_count": 9
        }
      ]
    },
    {
      "cell_type": "code",
      "source": [
        "z = torch.zeros([2,3])\n",
        "z"
      ],
      "metadata": {
        "colab": {
          "base_uri": "https://localhost:8080/"
        },
        "id": "-lxO9-chL13F",
        "outputId": "06671f90-4182-4fd3-bbad-27649f8f9e72"
      },
      "execution_count": 10,
      "outputs": [
        {
          "output_type": "execute_result",
          "data": {
            "text/plain": [
              "tensor([[0., 0., 0.],\n",
              "        [0., 0., 0.]])"
            ]
          },
          "metadata": {},
          "execution_count": 10
        }
      ]
    },
    {
      "cell_type": "code",
      "source": [
        "z1 = torch.zeros_like(z)\n",
        "z1"
      ],
      "metadata": {
        "colab": {
          "base_uri": "https://localhost:8080/"
        },
        "id": "o2A593_yL-zu",
        "outputId": "473a7f6b-c454-47ac-eba1-eb0874edbe22"
      },
      "execution_count": 11,
      "outputs": [
        {
          "output_type": "execute_result",
          "data": {
            "text/plain": [
              "tensor([[0., 0., 0.],\n",
              "        [0., 0., 0.]])"
            ]
          },
          "metadata": {},
          "execution_count": 11
        }
      ]
    },
    {
      "cell_type": "code",
      "source": [
        "full = torch.full((2,2,3),6)\n",
        "full"
      ],
      "metadata": {
        "colab": {
          "base_uri": "https://localhost:8080/"
        },
        "id": "7xq_LMpJMFZd",
        "outputId": "5437a5c7-952b-48b2-9345-0c35b5e3ff94"
      },
      "execution_count": 12,
      "outputs": [
        {
          "output_type": "execute_result",
          "data": {
            "text/plain": [
              "tensor([[[6, 6, 6],\n",
              "         [6, 6, 6]],\n",
              "\n",
              "        [[6, 6, 6],\n",
              "         [6, 6, 6]]])"
            ]
          },
          "metadata": {},
          "execution_count": 12
        }
      ]
    },
    {
      "cell_type": "code",
      "source": [
        "Identity = torch.eye(3)\n",
        "Identity"
      ],
      "metadata": {
        "colab": {
          "base_uri": "https://localhost:8080/"
        },
        "id": "xWv15ufaMT6B",
        "outputId": "6807149d-3411-4afb-e46f-b9ccef3e2c9a"
      },
      "execution_count": 13,
      "outputs": [
        {
          "output_type": "execute_result",
          "data": {
            "text/plain": [
              "tensor([[1., 0., 0.],\n",
              "        [0., 1., 0.],\n",
              "        [0., 0., 1.]])"
            ]
          },
          "metadata": {},
          "execution_count": 13
        }
      ]
    },
    {
      "cell_type": "markdown",
      "source": [
        "## random values between 0 &1"
      ],
      "metadata": {
        "id": "5j7ibc2nNxzy"
      }
    },
    {
      "cell_type": "code",
      "source": [
        "random_tensor = torch.rand(3,2)\n",
        "random_tensor"
      ],
      "metadata": {
        "colab": {
          "base_uri": "https://localhost:8080/"
        },
        "id": "WLEzTxGFMeEy",
        "outputId": "7bc09397-1f02-4aca-b6ec-7ecf990420a5"
      },
      "execution_count": 14,
      "outputs": [
        {
          "output_type": "execute_result",
          "data": {
            "text/plain": [
              "tensor([[0.8279, 0.3793],\n",
              "        [0.9256, 0.2872],\n",
              "        [0.8337, 0.7227]])"
            ]
          },
          "metadata": {},
          "execution_count": 14
        }
      ]
    },
    {
      "cell_type": "markdown",
      "source": [
        "## random values from normal distribution"
      ],
      "metadata": {
        "id": "gT4mPwhbN2jM"
      }
    },
    {
      "cell_type": "code",
      "source": [
        "torch.randn(3,2)"
      ],
      "metadata": {
        "colab": {
          "base_uri": "https://localhost:8080/"
        },
        "id": "ImpCKO64Mrsi",
        "outputId": "feb0c6ca-b130-45e1-8e20-025583e50e45"
      },
      "execution_count": 15,
      "outputs": [
        {
          "output_type": "execute_result",
          "data": {
            "text/plain": [
              "tensor([[ 1.4213,  0.2790],\n",
              "        [-1.3844,  0.8224],\n",
              "        [-0.4102, -1.7482]])"
            ]
          },
          "metadata": {},
          "execution_count": 15
        }
      ]
    },
    {
      "cell_type": "markdown",
      "source": [
        "## Shape type device"
      ],
      "metadata": {
        "id": "U-uTZuYFOBde"
      }
    },
    {
      "cell_type": "code",
      "source": [
        "t = torch.randn(3,2)\n",
        "print(\"tensor \",t)\n",
        "print(\"shape \",t.shape)\n",
        "print(\"ndim or Rank  \",t.ndim)\n",
        "print(\"data type\", t.dtype)\n",
        "print(\"device \",t.device)\n",
        "print(\"num of elements\",t.numel())\n"
      ],
      "metadata": {
        "colab": {
          "base_uri": "https://localhost:8080/"
        },
        "id": "ZV_2jI8zN97l",
        "outputId": "3e2ceec3-81fb-403a-e5c8-80ff34ec21af"
      },
      "execution_count": 16,
      "outputs": [
        {
          "output_type": "stream",
          "name": "stdout",
          "text": [
            "tensor  tensor([[-0.9974, -0.6485],\n",
            "        [-0.0281, -1.1946],\n",
            "        [-0.7156, -0.2294]])\n",
            "shape  torch.Size([3, 2])\n",
            "ndim or Rank   2\n",
            "data type torch.float32\n",
            "device  cpu\n",
            "num of elements 6\n"
          ]
        }
      ]
    },
    {
      "cell_type": "markdown",
      "source": [
        "# move tensor to gpu"
      ],
      "metadata": {
        "id": "ht34docPPjgL"
      }
    },
    {
      "cell_type": "code",
      "source": [
        "t_gpu = t.to('cuda')\n",
        "print(\"device \",t_gpu.device)"
      ],
      "metadata": {
        "colab": {
          "base_uri": "https://localhost:8080/"
        },
        "id": "AR-RHXqhOa0F",
        "outputId": "ae89853a-2940-4165-8969-071ed635799a"
      },
      "execution_count": 17,
      "outputs": [
        {
          "output_type": "stream",
          "name": "stdout",
          "text": [
            "device  cuda:0\n"
          ]
        }
      ]
    },
    {
      "cell_type": "markdown",
      "source": [],
      "metadata": {
        "id": "nFTB4r1gQKqE"
      }
    },
    {
      "cell_type": "markdown",
      "source": [
        "## Torch methods"
      ],
      "metadata": {
        "id": "ujpac6nRQKzl"
      }
    },
    {
      "cell_type": "code",
      "source": [
        "scalar = torch.tensor(4.0)\n",
        "scalar.item() # works only for scalar"
      ],
      "metadata": {
        "colab": {
          "base_uri": "https://localhost:8080/"
        },
        "id": "RN8W5CVoPz8P",
        "outputId": "27f399ea-1c57-4831-f546-cb63e370e592"
      },
      "execution_count": 19,
      "outputs": [
        {
          "output_type": "execute_result",
          "data": {
            "text/plain": [
              "4.0"
            ]
          },
          "metadata": {},
          "execution_count": 19
        }
      ]
    },
    {
      "cell_type": "code",
      "source": [
        "vec = torch.tensor([1,2,3,4])\n",
        "vec.numpy()"
      ],
      "metadata": {
        "colab": {
          "base_uri": "https://localhost:8080/"
        },
        "id": "ysEQ2QpqQbRx",
        "outputId": "49d5e1c7-5250-4c26-8033-3b7cdcd1d1d5"
      },
      "execution_count": 20,
      "outputs": [
        {
          "output_type": "execute_result",
          "data": {
            "text/plain": [
              "array([1, 2, 3, 4])"
            ]
          },
          "metadata": {},
          "execution_count": 20
        }
      ]
    },
    {
      "cell_type": "markdown",
      "source": [
        "## Memory sharing  of numpy Converted tensors"
      ],
      "metadata": {
        "id": "PDFIpglpRCIq"
      }
    },
    {
      "cell_type": "code",
      "source": [
        "vec_numpy = vec.numpy()\n",
        "vec_numpy[0] = 5\n",
        "print(vec)"
      ],
      "metadata": {
        "colab": {
          "base_uri": "https://localhost:8080/"
        },
        "id": "W8_5DtBKQpuN",
        "outputId": "219780ab-9fe7-41e4-b148-8d942fedd4e8"
      },
      "execution_count": 21,
      "outputs": [
        {
          "output_type": "stream",
          "name": "stdout",
          "text": [
            "tensor([5, 2, 3, 4])\n"
          ]
        }
      ]
    },
    {
      "cell_type": "code",
      "source": [
        "numpy_matrix = np.array([[1,2,3],[3,4,5]])\n",
        "tensor_from_numpy = torch.from_numpy(numpy_matrix)\n",
        "print(\"after copy \",tensor_from_numpy)\n",
        "tensor_from_numpy[0][0] = 10\n",
        "print(\"after modify tensor\",tensor_from_numpy)\n",
        "print(\"after modify numpy\",numpy_matrix)"
      ],
      "metadata": {
        "colab": {
          "base_uri": "https://localhost:8080/"
        },
        "id": "gIUOH8QJQ9V1",
        "outputId": "868bf3c8-a970-4bb3-d482-05cd0c2fc299"
      },
      "execution_count": 24,
      "outputs": [
        {
          "output_type": "stream",
          "name": "stdout",
          "text": [
            "after copy  tensor([[1, 2, 3],\n",
            "        [3, 4, 5]])\n",
            "after modify tensor tensor([[10,  2,  3],\n",
            "        [ 3,  4,  5]])\n",
            "after modify numpy [[10  2  3]\n",
            " [ 3  4  5]]\n"
          ]
        }
      ]
    },
    {
      "cell_type": "markdown",
      "source": [
        "### Usage tips\n",
        "1. torch.tensor([1,2,3]) avoid torch.Tensor\n",
        "2. All tensors need to be on the same device\n",
        "3. Avoid explicit datatype fix if mixed tensor types are there\n"
      ],
      "metadata": {
        "id": "qmDprn_4SZgz"
      }
    },
    {
      "cell_type": "code",
      "source": [],
      "metadata": {
        "id": "H-mUfmiMRxiU"
      },
      "execution_count": null,
      "outputs": []
    }
  ]
}