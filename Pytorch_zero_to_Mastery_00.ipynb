{
  "nbformat": 4,
  "nbformat_minor": 0,
  "metadata": {
    "colab": {
      "provenance": [],
      "gpuType": "T4",
      "authorship_tag": "ABX9TyMkS+shkegkMNTp87/KeH+A",
      "include_colab_link": true
    },
    "kernelspec": {
      "name": "python3",
      "display_name": "Python 3"
    },
    "language_info": {
      "name": "python"
    },
    "accelerator": "GPU"
  },
  "cells": [
    {
      "cell_type": "markdown",
      "metadata": {
        "id": "view-in-github",
        "colab_type": "text"
      },
      "source": [
        "<a href=\"https://colab.research.google.com/github/Jay-hv7/DL-Practice/blob/main/Pytorch_zero_to_Mastery_00.ipynb\" target=\"_parent\"><img src=\"https://colab.research.google.com/assets/colab-badge.svg\" alt=\"Open In Colab\"/></a>"
      ]
    },
    {
      "cell_type": "code",
      "execution_count": null,
      "metadata": {
        "colab": {
          "base_uri": "https://localhost:8080/"
        },
        "id": "flVkwr_TejUF",
        "outputId": "e55b5d87-7ca3-47ff-d7e9-8613d5983223"
      },
      "outputs": [
        {
          "output_type": "stream",
          "name": "stdout",
          "text": [
            "torch version  2.8.0+cu126\n"
          ]
        }
      ],
      "source": [
        "import torch\n",
        "print(\"torch version \",torch.__version__)"
      ]
    },
    {
      "cell_type": "markdown",
      "source": [
        "## Torch.Tensor class usage"
      ],
      "metadata": {
        "id": "qS7D7UnNfE2w"
      }
    },
    {
      "cell_type": "markdown",
      "source": [
        "### scalar"
      ],
      "metadata": {
        "id": "35Usw5TefQUF"
      }
    },
    {
      "cell_type": "code",
      "source": [
        "scalar = torch.tensor(5)\n",
        "print(\"scalar tensor\",scalar)\n",
        "print(\"scalar dimension \",scalar.ndim)\n",
        "print(\"scalar tensor value (works only for 1 element tensor) \",scalar.item())"
      ],
      "metadata": {
        "colab": {
          "base_uri": "https://localhost:8080/"
        },
        "id": "VrFaCzlJe1bZ",
        "outputId": "ab8f9c9b-30b3-4eec-cffa-c42646a60f72"
      },
      "execution_count": null,
      "outputs": [
        {
          "output_type": "stream",
          "name": "stdout",
          "text": [
            "scalar tensor tensor(5)\n",
            "scalar dimension  0\n",
            "scalar tensor value (works only for 1 element tensor)  5\n"
          ]
        }
      ]
    },
    {
      "cell_type": "markdown",
      "source": [
        "### vector"
      ],
      "metadata": {
        "id": "FHubyYGcgIoD"
      }
    },
    {
      "cell_type": "code",
      "source": [
        "vector = torch.tensor([1,2])\n",
        "print(\"vector tensor\",vector)\n",
        "print(\"vector dimension \",vector.ndim)\n",
        "print(\"vector size or shape \",vector.shape, vector.size())\n",
        "print(\"vector tensor value  \",vector[0:])"
      ],
      "metadata": {
        "colab": {
          "base_uri": "https://localhost:8080/"
        },
        "id": "DCdfKYjzfvWZ",
        "outputId": "8a28e32c-525d-487c-ffbe-94d24ba8fda0"
      },
      "execution_count": null,
      "outputs": [
        {
          "output_type": "stream",
          "name": "stdout",
          "text": [
            "vector tensor tensor([1, 2])\n",
            "vector dimension  1\n",
            "vector size or shape  torch.Size([2]) torch.Size([2])\n",
            "vector tensor value   tensor([1, 2])\n"
          ]
        }
      ]
    },
    {
      "cell_type": "markdown",
      "source": [
        "### Matrix\n"
      ],
      "metadata": {
        "id": "0SwKjPHghF_V"
      }
    },
    {
      "cell_type": "code",
      "source": [
        "matrix = torch.tensor([[1,3],\n",
        "                      [2,5],\n",
        "                      [1,5]])\n",
        "print(\"matrix \",matrix)\n",
        "print(\"matrix dimension \",matrix.ndim)\n",
        "print(\"matrix shape \",matrix.shape, matrix.size())\n",
        "print(\"matrix value \",matrix [0:])"
      ],
      "metadata": {
        "colab": {
          "base_uri": "https://localhost:8080/"
        },
        "id": "Fxn9yP6DgjBN",
        "outputId": "59dd8dc9-6523-4b0b-c683-7ee5126d0213"
      },
      "execution_count": null,
      "outputs": [
        {
          "output_type": "stream",
          "name": "stdout",
          "text": [
            "matrix  tensor([[1, 3],\n",
            "        [2, 5],\n",
            "        [1, 5]])\n",
            "matrix dimension  2\n",
            "matrix shape  torch.Size([3, 2]) torch.Size([3, 2])\n",
            "matrix value  tensor([[1, 3],\n",
            "        [2, 5],\n",
            "        [1, 5]])\n"
          ]
        }
      ]
    },
    {
      "cell_type": "markdown",
      "source": [
        "### Tensor"
      ],
      "metadata": {
        "id": "9r9liq-eiIXz"
      }
    },
    {
      "cell_type": "code",
      "source": [
        "Tensor = torch.tensor([[[1, 2, 3],\n",
        "                        [2,3,4],\n",
        "                        [4,5,6]]])\n",
        "print(\"Tensor \",Tensor)\n",
        "print(\"Tensor dimension \",Tensor.ndim)\n",
        "print(\"Tensor shape \", Tensor.shape, Tensor.size())\n",
        "print(\"Tensor value \",Tensor[0:])"
      ],
      "metadata": {
        "colab": {
          "base_uri": "https://localhost:8080/"
        },
        "id": "zYCmWXGnhuX-",
        "outputId": "aaeb20cd-3092-4f15-836d-0be1fd0cd111"
      },
      "execution_count": null,
      "outputs": [
        {
          "output_type": "stream",
          "name": "stdout",
          "text": [
            "Tensor  tensor([[[1, 2, 3],\n",
            "         [2, 3, 4],\n",
            "         [4, 5, 6]]])\n",
            "Tensor dimension  3\n",
            "Tensor shape  torch.Size([1, 3, 3]) torch.Size([1, 3, 3])\n",
            "Tensor value  tensor([[[1, 2, 3],\n",
            "         [2, 3, 4],\n",
            "         [4, 5, 6]]])\n"
          ]
        }
      ]
    },
    {
      "cell_type": "code",
      "source": [
        "Tensor = torch.tensor([[[1, 2, 3],\n",
        "                        [2,3,4],\n",
        "                        [4,5,6]],\n",
        "                       [[9,8,7],\n",
        "                       [7,8,8],\n",
        "                       [9,8,9]]])\n",
        "print(\"Tensor \",Tensor)\n",
        "print(\"Tensor dimension \",Tensor.ndim)\n",
        "print(\"Tensor shape \", Tensor.shape, Tensor.size())\n",
        "print(\"Tensor value \\n \",Tensor[0:])"
      ],
      "metadata": {
        "colab": {
          "base_uri": "https://localhost:8080/"
        },
        "id": "YyK-HChvjksK",
        "outputId": "2d47cddd-108c-4444-8c10-30828329ebf4"
      },
      "execution_count": null,
      "outputs": [
        {
          "output_type": "stream",
          "name": "stdout",
          "text": [
            "Tensor  tensor([[[1, 2, 3],\n",
            "         [2, 3, 4],\n",
            "         [4, 5, 6]],\n",
            "\n",
            "        [[9, 8, 7],\n",
            "         [7, 8, 8],\n",
            "         [9, 8, 9]]])\n",
            "Tensor dimension  3\n",
            "Tensor shape  torch.Size([2, 3, 3]) torch.Size([2, 3, 3])\n",
            "Tensor value \n",
            "  tensor([[[1, 2, 3],\n",
            "         [2, 3, 4],\n",
            "         [4, 5, 6]],\n",
            "\n",
            "        [[9, 8, 7],\n",
            "         [7, 8, 8],\n",
            "         [9, 8, 9]]])\n"
          ]
        }
      ]
    },
    {
      "cell_type": "markdown",
      "source": [
        "## torch.size([2,3,3])\n",
        "- 2 represents dim 0 (0th dimension - first outer bracket)\n",
        "- 3 representative of dim 1 (1st dimension - second square bracket, # of rows 3 rose )\n",
        "- 3 representative of dim 2 ( 2nd dimension - third square bracket- indicating # of elements in innermost square bracket)"
      ],
      "metadata": {
        "id": "z7O_C1UmlAaB"
      }
    },
    {
      "cell_type": "markdown",
      "source": [
        "### Random Tensor  : ndim, shape, size(), dtype"
      ],
      "metadata": {
        "id": "XkgK2qS0mqMr"
      }
    },
    {
      "cell_type": "code",
      "source": [
        "random_tensor = torch.rand(size=(2,3))\n",
        "print(\"random tensor \",random_tensor.shape, random_tensor.ndim, random_tensor.dtype)"
      ],
      "metadata": {
        "colab": {
          "base_uri": "https://localhost:8080/"
        },
        "id": "fT_UHABcm0li",
        "outputId": "469f2713-d38c-4c42-e5e7-9993db3e31e7"
      },
      "execution_count": null,
      "outputs": [
        {
          "output_type": "stream",
          "name": "stdout",
          "text": [
            "random tensor  torch.Size([2, 3]) 2 torch.float32\n"
          ]
        }
      ]
    },
    {
      "cell_type": "code",
      "source": [
        "random_tensor = torch.rand(size=(2,2,3), dtype=torch.float16)\n",
        "print(f\"random tensor:\\nShape: {random_tensor.shape}\\nDimensions: {random_tensor.ndim}\\nDtype: {random_tensor.dtype}\\nValues:\\n{random_tensor[0:]}\")\n"
      ],
      "metadata": {
        "colab": {
          "base_uri": "https://localhost:8080/"
        },
        "id": "4uHbn33cj5c1",
        "outputId": "a2e7155e-81d8-431b-d7a9-6b3ab13b55fb"
      },
      "execution_count": null,
      "outputs": [
        {
          "output_type": "stream",
          "name": "stdout",
          "text": [
            "random tensor:\n",
            "Shape: torch.Size([2, 2, 3])\n",
            "Dimensions: 3\n",
            "Dtype: torch.float16\n",
            "Values:\n",
            "tensor([[[0.2070, 0.0703, 0.3496],\n",
            "         [0.1406, 0.7900, 0.4146]],\n",
            "\n",
            "        [[0.5146, 0.7578, 0.5088],\n",
            "         [0.9106, 0.9185, 0.6211]]], dtype=torch.float16)\n"
          ]
        }
      ]
    },
    {
      "cell_type": "markdown",
      "source": [
        "### torch.zeros"
      ],
      "metadata": {
        "id": "cvuNqG8Qva69"
      }
    },
    {
      "cell_type": "code",
      "source": [
        "in_zero = torch.zeros(size=(2,3))\n",
        "print(\"in_zero \",in_zero.shape, in_zero.ndim, in_zero.dtype)"
      ],
      "metadata": {
        "id": "7ymWMUwLokAV",
        "colab": {
          "base_uri": "https://localhost:8080/"
        },
        "outputId": "4747d9ba-303e-479c-b33f-0c2e3c58a50c"
      },
      "execution_count": null,
      "outputs": [
        {
          "output_type": "stream",
          "name": "stdout",
          "text": [
            "in_zero  torch.Size([2, 3]) 2 torch.float32\n"
          ]
        }
      ]
    },
    {
      "cell_type": "markdown",
      "source": [
        "## torch.ones"
      ],
      "metadata": {
        "id": "b7Vkv-J9wCST"
      }
    },
    {
      "cell_type": "code",
      "source": [
        "in_ones = torch.ones(size=(3,3))\n",
        "print(\"in_ones tensor \",in_ones.shape, in_ones.ndim, in_ones.dtype)"
      ],
      "metadata": {
        "colab": {
          "base_uri": "https://localhost:8080/"
        },
        "id": "hKSIKky-v5YY",
        "outputId": "9ace51e7-6a0c-41a1-c3b4-cc2b10c1cce0"
      },
      "execution_count": null,
      "outputs": [
        {
          "output_type": "stream",
          "name": "stdout",
          "text": [
            "in_ones tensor  torch.Size([3, 3]) 2 torch.float32\n"
          ]
        }
      ]
    },
    {
      "cell_type": "markdown",
      "source": [
        "## torch _like"
      ],
      "metadata": {
        "id": "M60MQ4XbwUr_"
      }
    },
    {
      "cell_type": "code",
      "source": [
        "zero_like_in = torch.zeros_like(input=in_zero)\n",
        "print(\" \\n in_zero \",in_zero.shape, in_zero.ndim, in_zero.dtype)\n",
        "print(\"\\n zero_like_in \",zero_like_in.shape, zero_like_in.ndim, zero_like_in.dtype)"
      ],
      "metadata": {
        "colab": {
          "base_uri": "https://localhost:8080/"
        },
        "id": "XY91jLWQwNxq",
        "outputId": "4e27ae3c-9481-4fb6-94a1-97b09dca541c"
      },
      "execution_count": null,
      "outputs": [
        {
          "output_type": "stream",
          "name": "stdout",
          "text": [
            " \n",
            " in_zero  torch.Size([2, 3]) 2 torch.float32\n",
            "\n",
            " zero_like_in  torch.Size([2, 3]) 2 torch.float32\n"
          ]
        }
      ]
    },
    {
      "cell_type": "code",
      "source": [
        "ones_like_in = torch.zeros_like(input=in_ones)\n",
        "print(\" \\n in_ones \",in_ones.shape, in_ones.ndim, in_ones.dtype)\n",
        "print(\"\\n onesero_like_in \",ones_like_in.shape, ones_like_in.ndim, ones_like_in.dtype)"
      ],
      "metadata": {
        "colab": {
          "base_uri": "https://localhost:8080/"
        },
        "id": "JNiXacgwx5Ho",
        "outputId": "3898be0f-e26b-4a4d-f3ad-baa9a009d6c1"
      },
      "execution_count": null,
      "outputs": [
        {
          "output_type": "stream",
          "name": "stdout",
          "text": [
            " \n",
            " in_ones  torch.Size([3, 3]) 2 torch.float32\n",
            "\n",
            " onesero_like_in  torch.Size([3, 3]) 2 torch.float32\n"
          ]
        }
      ]
    },
    {
      "cell_type": "markdown",
      "source": [
        "## torch.arange"
      ],
      "metadata": {
        "id": "jRNHJGhkyXJw"
      }
    },
    {
      "cell_type": "code",
      "source": [
        "range_in = torch.arange(start=0, end=10, step=0.5) # 0 to 10 in a step of 0.5\n",
        "print(\"range input\",range_in)"
      ],
      "metadata": {
        "colab": {
          "base_uri": "https://localhost:8080/"
        },
        "id": "Ut6HJI3ExY_Y",
        "outputId": "c6e92e2f-33bb-4e5b-b9c8-3781b51193d1"
      },
      "execution_count": null,
      "outputs": [
        {
          "output_type": "stream",
          "name": "stdout",
          "text": [
            "range input tensor([0.0000, 0.5000, 1.0000, 1.5000, 2.0000, 2.5000, 3.0000, 3.5000, 4.0000,\n",
            "        4.5000, 5.0000, 5.5000, 6.0000, 6.5000, 7.0000, 7.5000, 8.0000, 8.5000,\n",
            "        9.0000, 9.5000])\n"
          ]
        }
      ]
    },
    {
      "cell_type": "markdown",
      "source": [
        "### tensor info"
      ],
      "metadata": {
        "id": "mTOlKiN2zCHq"
      }
    },
    {
      "cell_type": "code",
      "source": [
        "# Create a tensor\n",
        "# tensor_ex = torch.rand(1,2,4)\n",
        "tensor_ex = torch.rand(size=(1,2,3),dtype=torch.float16)\n",
        "\n",
        "# Find out details about it\n",
        "print(tensor_ex)\n",
        "print(f\"Shape of tensor: {tensor_ex.shape}\")\n",
        "print(f\"Datatype of tensor: {tensor_ex.dtype}\")\n",
        "print(f\"Device tensor is stored on: {tensor_ex.device}\") # will default to CPU"
      ],
      "metadata": {
        "colab": {
          "base_uri": "https://localhost:8080/"
        },
        "id": "W84flb6gyrzZ",
        "outputId": "86b32ffc-38f6-48d6-b1b9-9288e8d9b355"
      },
      "execution_count": null,
      "outputs": [
        {
          "output_type": "stream",
          "name": "stdout",
          "text": [
            "tensor([[[0.3496, 0.3950, 0.2666],\n",
            "         [0.1270, 0.6265, 0.3042]]], dtype=torch.float16)\n",
            "Shape of tensor: torch.Size([1, 2, 3])\n",
            "Datatype of tensor: torch.float16\n",
            "Device tensor is stored on: cpu\n"
          ]
        }
      ]
    },
    {
      "cell_type": "markdown",
      "source": [
        "### Tensor operations\n"
      ],
      "metadata": {
        "id": "TeiuYMBhz0RL"
      }
    },
    {
      "cell_type": "code",
      "source": [
        "in1 = torch.tensor([1,2,3,4])\n",
        "in2 = torch.tensor([1,1,1,1])\n",
        "print(\"Add \",in1+10)\n",
        "print(\"Add \",in1+in2)\n",
        "print(\"sub\",in1-10)\n",
        "print(\"sub \",in1-in2)\n",
        "print(\"mul \",in1*in2)\n",
        "print(\"mul in1*in2 \",torch.multiply(in1,in2))\n",
        "print(\"mul in2*3 \",torch.multiply(in2,3))\n",
        "\n",
        "\n"
      ],
      "metadata": {
        "colab": {
          "base_uri": "https://localhost:8080/"
        },
        "id": "tpmOtGFozRr8",
        "outputId": "bf4b5e26-e7ef-46a1-89e6-3579920ad1fc"
      },
      "execution_count": null,
      "outputs": [
        {
          "output_type": "stream",
          "name": "stdout",
          "text": [
            "Add  tensor([11, 12, 13, 14])\n",
            "Add  tensor([2, 3, 4, 5])\n",
            "sub tensor([-9, -8, -7, -6])\n",
            "sub  tensor([0, 1, 2, 3])\n",
            "mul  tensor([1, 2, 3, 4])\n",
            "mul in1*in2  tensor([1, 2, 3, 4])\n",
            "mul in2*3  tensor([3, 3, 3, 3])\n"
          ]
        }
      ]
    },
    {
      "cell_type": "markdown",
      "source": [
        "## torch.matmul torch.mm torch.dot"
      ],
      "metadata": {
        "id": "VFqDnsl5xINU"
      }
    },
    {
      "cell_type": "code",
      "source": [
        "import torch\n",
        "tensor1 = torch.tensor([[1,2,3],\n",
        "                        [1,2,3],\n",
        "                        [1, 2, 3]],dtype=torch.float32)\n",
        "tensor2 = torch.tensor([[1,2,2],\n",
        "                       [1,2,4],\n",
        "                       [1,4,5]], dtype=torch.float32)\n",
        "matmul = torch.matmul(tensor1, tensor2.T)\n",
        "print(\"matmul for higher dimension\\n \",matmul)\n",
        "tensor1 = torch.tensor([1,2,3],\n",
        "                        dtype=torch.float32)\n",
        "tensor2 = torch.tensor([1,2,2],dtype=torch.float32)\n",
        "dot_prod = torch.dot(tensor1, tensor2.T)\n",
        "print(\"dot product \\n\",dot_prod)"
      ],
      "metadata": {
        "id": "VQrJ-8CG0nmz",
        "colab": {
          "base_uri": "https://localhost:8080/"
        },
        "outputId": "0d95f9b3-3488-4abd-f505-6066debf3c04"
      },
      "execution_count": 6,
      "outputs": [
        {
          "output_type": "stream",
          "name": "stdout",
          "text": [
            "matmul for higher dimension\n",
            "  tensor([[11., 17., 24.],\n",
            "        [11., 17., 24.],\n",
            "        [11., 17., 24.]])\n",
            "dot product \n",
            " tensor(11.)\n"
          ]
        },
        {
          "output_type": "stream",
          "name": "stderr",
          "text": [
            "/tmp/ipython-input-1738766621.py:13: UserWarning: The use of `x.T` on tensors of dimension other than 2 to reverse their shape is deprecated and it will throw an error in a future release. Consider `x.mT` to transpose batches of matrices or `x.permute(*torch.arange(x.ndim - 1, -1, -1))` to reverse the dimensions of a tensor. (Triggered internally at /pytorch/aten/src/ATen/native/TensorShape.cpp:4421.)\n",
            "  dot_prod = torch.dot(tensor1, tensor2.T)\n"
          ]
        }
      ]
    },
    {
      "cell_type": "markdown",
      "source": [
        "## torch.linear(in_features= , out_features=)\n",
        "![image.png](data:image/png;base64,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)"
      ],
      "metadata": {
        "id": "FfN3Bljg1_nD"
      }
    },
    {
      "cell_type": "code",
      "source": [
        "x = torch.rand(size=(2,5))\n",
        "linear_layer = torch.nn.Linear(in_features =5, out_features=3)\n",
        "print(\"linear layer\",linear_layer.weight, linear_layer.bias)\n",
        "wt=linear_layer.weight\n",
        "bias = linear_layer.bias"
      ],
      "metadata": {
        "colab": {
          "base_uri": "https://localhost:8080/"
        },
        "id": "w1mxWajMyNin",
        "outputId": "bcfed30c-562b-49fd-8e82-bcd71bd1375c"
      },
      "execution_count": 12,
      "outputs": [
        {
          "output_type": "stream",
          "name": "stdout",
          "text": [
            "linear layer Parameter containing:\n",
            "tensor([[ 0.1112,  0.1996,  0.2345,  0.3832, -0.3554],\n",
            "        [-0.0961,  0.0288,  0.2951, -0.1819, -0.0348],\n",
            "        [ 0.0300,  0.0981, -0.0526, -0.2611, -0.0144]], requires_grad=True) Parameter containing:\n",
            "tensor([-0.0197,  0.0149, -0.1017], requires_grad=True)\n"
          ]
        }
      ]
    },
    {
      "cell_type": "code",
      "source": [
        "output = linear_layer(x)"
      ],
      "metadata": {
        "id": "NqbFG7KF7Pim"
      },
      "execution_count": 13,
      "outputs": []
    },
    {
      "cell_type": "code",
      "source": [
        "print(\"output of linear layer nn.Linear \",output)\n",
        "computed_output=torch.matmul(x,wt.T)+bias\n",
        "print(\"computed output linear layer \",computed_output)"
      ],
      "metadata": {
        "colab": {
          "base_uri": "https://localhost:8080/"
        },
        "id": "7Q0lhFH2QzP4",
        "outputId": "91503a93-b1f4-4a24-9449-543aba89c076"
      },
      "execution_count": 14,
      "outputs": [
        {
          "output_type": "stream",
          "name": "stdout",
          "text": [
            "output of linear layer nn.Linear  tensor([[ 0.3036, -0.1008, -0.2028],\n",
            "        [ 0.4953,  0.0836, -0.2832]], grad_fn=<AddmmBackward0>)\n",
            "computed output linear layer  tensor([[ 0.3036, -0.1008, -0.2028],\n",
            "        [ 0.4953,  0.0836, -0.2832]], grad_fn=<AddBackward0>)\n"
          ]
        }
      ]
    },
    {
      "cell_type": "markdown",
      "source": [
        "## max min mean sum argmax argmin"
      ],
      "metadata": {
        "id": "MaN8Ok9hCpOl"
      }
    },
    {
      "cell_type": "code",
      "source": [
        "import torch\n",
        "in1 = torch.tensor([[1,2,8],\n",
        "                    [3,7,5]])\n",
        "in2 = torch.tensor([[2,2,2],\n",
        "                    [2,2,2]])\n",
        "print(in1.max(),in1.min(),in1.type(torch.float32).mean(),in1.sum())"
      ],
      "metadata": {
        "colab": {
          "base_uri": "https://localhost:8080/"
        },
        "id": "yFY6xKbhRaqY",
        "outputId": "ffe97da6-439b-4be7-804f-8091fb029684"
      },
      "execution_count": 11,
      "outputs": [
        {
          "output_type": "stream",
          "name": "stdout",
          "text": [
            "tensor(8) tensor(1) tensor(4.3333) tensor(26)\n"
          ]
        }
      ]
    },
    {
      "cell_type": "code",
      "source": [
        "print(in1.argmax(),in1.argmin())"
      ],
      "metadata": {
        "colab": {
          "base_uri": "https://localhost:8080/"
        },
        "id": "qu_a5U-eDe4b",
        "outputId": "692513a0-d86e-4372-ff8c-f51a45bd736e"
      },
      "execution_count": 12,
      "outputs": [
        {
          "output_type": "stream",
          "name": "stdout",
          "text": [
            "tensor(2) tensor(0)\n"
          ]
        }
      ]
    },
    {
      "cell_type": "code",
      "source": [
        "max_value,max_indices = in1.max(dim=1)\n",
        "print(max_value,max_indices)"
      ],
      "metadata": {
        "colab": {
          "base_uri": "https://localhost:8080/"
        },
        "id": "7d9d8NpIDoDT",
        "outputId": "589713c1-2e94-473d-a57f-389f50eb360b"
      },
      "execution_count": 13,
      "outputs": [
        {
          "output_type": "stream",
          "name": "stdout",
          "text": [
            "tensor([8, 7]) tensor([2, 1])\n"
          ]
        }
      ]
    },
    {
      "cell_type": "code",
      "source": [
        "max_value,max_indices = in1.max(dim=0)\n",
        "print(max_value,max_indices)"
      ],
      "metadata": {
        "colab": {
          "base_uri": "https://localhost:8080/"
        },
        "id": "eMAQwoXOI86C",
        "outputId": "0b58d8ee-cb1d-4d5e-bd05-bbb51298502c"
      },
      "execution_count": 14,
      "outputs": [
        {
          "output_type": "stream",
          "name": "stdout",
          "text": [
            "tensor([3, 7, 8]) tensor([1, 1, 0])\n"
          ]
        }
      ]
    },
    {
      "cell_type": "markdown",
      "source": [
        "### torch change dtype"
      ],
      "metadata": {
        "id": "PwcGmZZHKCoH"
      }
    },
    {
      "cell_type": "code",
      "source": [
        "torch.manual_seed(42)\n",
        "tensor_fp32 = torch.rand(size=(2,3),dtype=torch.float32)\n",
        "print(tensor_fp32)"
      ],
      "metadata": {
        "colab": {
          "base_uri": "https://localhost:8080/"
        },
        "id": "cE2ffLqVJFdK",
        "outputId": "fa5e98f4-b6be-43e8-cb84-575bcf63bcc4"
      },
      "execution_count": 16,
      "outputs": [
        {
          "output_type": "stream",
          "name": "stdout",
          "text": [
            "tensor([[0.8823, 0.9150, 0.3829],\n",
            "        [0.9593, 0.3904, 0.6009]])\n"
          ]
        }
      ]
    },
    {
      "cell_type": "code",
      "source": [
        "tensor_fp16 = tensor_fp32.type(torch.float16)\n",
        "print(tensor_fp16,tensor_fp16.dtype)"
      ],
      "metadata": {
        "colab": {
          "base_uri": "https://localhost:8080/"
        },
        "id": "EGs6PeD-KVXc",
        "outputId": "f9efca77-9cbf-45c1-d1f1-d4555fa471d7"
      },
      "execution_count": 17,
      "outputs": [
        {
          "output_type": "stream",
          "name": "stdout",
          "text": [
            "tensor([[0.8823, 0.9150, 0.3828],\n",
            "        [0.9595, 0.3904, 0.6011]], dtype=torch.float16) torch.float16\n"
          ]
        }
      ]
    },
    {
      "cell_type": "markdown",
      "source": [
        "### reshape(input,shape)"
      ],
      "metadata": {
        "id": "fgVDCWF0VO3Q"
      }
    },
    {
      "cell_type": "code",
      "source": [
        "import torch\n",
        "tensor = torch.rand(size=(2,2), dtype=torch.float32)\n",
        "print(\"tensor shape before \",tensor.shape)"
      ],
      "metadata": {
        "colab": {
          "base_uri": "https://localhost:8080/"
        },
        "id": "J-YUw09yKwjF",
        "outputId": "37feeee8-2ff7-484c-9253-fbab2672f005"
      },
      "execution_count": 4,
      "outputs": [
        {
          "output_type": "stream",
          "name": "stdout",
          "text": [
            "tensor shape before  torch.Size([2, 2])\n"
          ]
        }
      ]
    },
    {
      "cell_type": "code",
      "source": [
        "tensor_reshaped = tensor.reshape((4,1))\n",
        "print(\"rehaped tensor shape\",tensor_reshaped.shape)"
      ],
      "metadata": {
        "colab": {
          "base_uri": "https://localhost:8080/"
        },
        "id": "0BdeVh5HVe_w",
        "outputId": "d21f7700-ba8c-4cf0-af41-a7131434c513"
      },
      "execution_count": 5,
      "outputs": [
        {
          "output_type": "stream",
          "name": "stdout",
          "text": [
            "rehaped tensor shape torch.Size([4, 1])\n"
          ]
        }
      ]
    },
    {
      "cell_type": "code",
      "source": [
        "tensor_reshaped2 = torch.reshape(tensor,(1,4))\n",
        "print(\"reshaped again \",tensor_reshaped2.shape)"
      ],
      "metadata": {
        "colab": {
          "base_uri": "https://localhost:8080/"
        },
        "id": "DfYd0j9jWB8e",
        "outputId": "08288c82-02fb-426a-ef03-821594de8716"
      },
      "execution_count": 7,
      "outputs": [
        {
          "output_type": "stream",
          "name": "stdout",
          "text": [
            "reshaped again  torch.Size([1, 4])\n"
          ]
        }
      ]
    },
    {
      "cell_type": "code",
      "source": [],
      "metadata": {
        "id": "u8vsFdugWQHv"
      },
      "execution_count": null,
      "outputs": []
    },
    {
      "cell_type": "markdown",
      "source": [
        "### torch view tensor.view: Returns a view of the original tensor in a different shape but shares the same data as the original tensor.: changing value of view changes original tensor"
      ],
      "metadata": {
        "id": "Mv5W-wIMW6y_"
      }
    },
    {
      "cell_type": "code",
      "source": [
        "tensor_new_view = tensor.view((1,2,2))\n",
        "print(f\"tensor shape {tensor.shape} tensor new view ={tensor_new_view.shape}\")"
      ],
      "metadata": {
        "colab": {
          "base_uri": "https://localhost:8080/"
        },
        "id": "cQmibrBtXDMS",
        "outputId": "8612afb5-339c-4309-bfa3-8fa666634a0e"
      },
      "execution_count": 10,
      "outputs": [
        {
          "output_type": "stream",
          "name": "stdout",
          "text": [
            "tensor shape torch.Size([2, 2]) tensor new view =torch.Size([1, 2, 2])\n"
          ]
        }
      ]
    },
    {
      "cell_type": "markdown",
      "source": [
        "### torch.stack(tensors, dim=0) :\tConcatenates a sequence of tensors along a new dimension (dim), all tensors must be same size.\n",
        "- dim 0 tensor 2 is placed below tensor 1 final tensor dimension increases by 1 (outer bracket outer most )\n",
        "- dim1 tensor 1 first row is placed above tensor 2 first row, same thing follows for the rest (dim1 is internal)"
      ],
      "metadata": {
        "id": "TA6uHrHwXn1h"
      }
    },
    {
      "cell_type": "code",
      "source": [
        "tensor1 = torch.rand(size=(2,2))\n",
        "tensor2= torch.rand(size=(2,2))\n",
        "tensor3 = torch.stack([tensor1,tensor2],dim=0)\n",
        "tensor4 = torch.stack([tensor1,tensor2],dim=1)\n",
        "\n",
        "print(f\"tensor1 = \\n{tensor1}  \\n tensor2 = \\n {tensor2}   \\n stacked along dim 0 = \\n{tensor3}   \\n  stacked along dim 1 = \\n{tensor4} \")\n"
      ],
      "metadata": {
        "colab": {
          "base_uri": "https://localhost:8080/"
        },
        "id": "rtUb17pFXZcP",
        "outputId": "6851d8b8-5e61-4081-c481-899586a188ae"
      },
      "execution_count": 15,
      "outputs": [
        {
          "output_type": "stream",
          "name": "stdout",
          "text": [
            "tensor1 = \n",
            "tensor([[0.1366, 0.1615],\n",
            "        [0.7949, 0.3181]])  \n",
            " tensor2 = \n",
            " tensor([[0.8394, 0.8671],\n",
            "        [0.1719, 0.1163]])   \n",
            " stacked along dim 0 = \n",
            "tensor([[[0.1366, 0.1615],\n",
            "         [0.7949, 0.3181]],\n",
            "\n",
            "        [[0.8394, 0.8671],\n",
            "         [0.1719, 0.1163]]])   \n",
            "  stacked along dim 1 = \n",
            "tensor([[[0.1366, 0.1615],\n",
            "         [0.8394, 0.8671]],\n",
            "\n",
            "        [[0.7949, 0.3181],\n",
            "         [0.1719, 0.1163]]]) \n"
          ]
        }
      ]
    },
    {
      "cell_type": "markdown",
      "source": [
        "![image.png](data:image/png;base64,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)"
      ],
      "metadata": {
        "id": "pKxqErZpZkhA"
      }
    },
    {
      "cell_type": "markdown",
      "source": [
        "###\n",
        "- torch.squeeze(input) \tSqueezes input to remove all the dimenions with value 1.(if size is 1,2 ---> output will have size(2) , removs dimenions with value 1, if it is 3,2,1 -->3,2\n",
        "- torch.unsqueeze(input, dim) \tReturns input with a dimension value of 1 added at dim.\n",
        "- torch.permute(input, dims) \tReturns a view of the original input with its dimensions permuted (rearranged) to dims."
      ],
      "metadata": {
        "id": "HnZl_CsybbUP"
      }
    },
    {
      "cell_type": "code",
      "source": [
        "tensor1 = torch.rand(size=(3,2,1))\n",
        "tensor_squeezed = tensor1.squeeze()\n",
        "print(f\"tensor1.shape ={tensor1.shape}  tensor_squeezed shape = {tensor_squeezed.shape}\")"
      ],
      "metadata": {
        "colab": {
          "base_uri": "https://localhost:8080/"
        },
        "id": "vfq1M8lHYL_w",
        "outputId": "ebae561d-081c-4c7b-90f6-e2725618955c"
      },
      "execution_count": 19,
      "outputs": [
        {
          "output_type": "stream",
          "name": "stdout",
          "text": [
            "tensor1.shape =torch.Size([3, 2, 1])  tensor_squeezed shape = torch.Size([3, 2])\n"
          ]
        }
      ]
    },
    {
      "cell_type": "code",
      "source": [
        "tensor_unsqueezed = tensor_squeezed.unsqueeze(dim=2)\n",
        "print(f\"tensor_unsqueezed.shape ={tensor_unsqueezed.shape}  tensor_squeezed shape = {tensor_squeezed.shape}\")\n"
      ],
      "metadata": {
        "colab": {
          "base_uri": "https://localhost:8080/"
        },
        "id": "oolgE43ucQsU",
        "outputId": "4f82a6ca-37cd-4ac8-b615-affa5199b122"
      },
      "execution_count": 23,
      "outputs": [
        {
          "output_type": "stream",
          "name": "stdout",
          "text": [
            "tensor_unsqueezed.shape =torch.Size([3, 2, 1])  tensor_squeezed shape = torch.Size([3, 2])\n"
          ]
        }
      ]
    },
    {
      "cell_type": "code",
      "source": [
        "print(tensor_unsqueezed)"
      ],
      "metadata": {
        "colab": {
          "base_uri": "https://localhost:8080/"
        },
        "id": "QkSeU9RYdZxX",
        "outputId": "96e9fd6c-d420-4f7f-8426-058047ba1572"
      },
      "execution_count": 24,
      "outputs": [
        {
          "output_type": "stream",
          "name": "stdout",
          "text": [
            "tensor([[[0.5346],\n",
            "         [0.2330]],\n",
            "\n",
            "        [[0.3366],\n",
            "         [0.5782]],\n",
            "\n",
            "        [[0.4269],\n",
            "         [0.5558]]])\n"
          ]
        }
      ]
    },
    {
      "cell_type": "code",
      "source": [
        "print(tensor_squeezed)"
      ],
      "metadata": {
        "colab": {
          "base_uri": "https://localhost:8080/"
        },
        "id": "g_Nz5uBcdkvK",
        "outputId": "eceb0f98-e6f5-4377-ab54-f7dfe8ca5a52"
      },
      "execution_count": 22,
      "outputs": [
        {
          "output_type": "stream",
          "name": "stdout",
          "text": [
            "tensor([[0.5346, 0.2330],\n",
            "        [0.3366, 0.5782],\n",
            "        [0.4269, 0.5558]])\n"
          ]
        }
      ]
    },
    {
      "cell_type": "code",
      "source": [
        "tensor1 = torch.rand(size=(2,2))\n",
        "tensor1_permuted = tensor1.permute(1,0) # dim1->dim0 , dim0->dim1\n",
        "print(\"original tensor = \\n \", tensor1)\n",
        "print(\"\\npermuted  \\n\",tensor1_permuted)"
      ],
      "metadata": {
        "colab": {
          "base_uri": "https://localhost:8080/"
        },
        "id": "Piq6cuZjdpsc",
        "outputId": "82044172-5f8d-4504-9e0d-58e81f3970e9"
      },
      "execution_count": 29,
      "outputs": [
        {
          "output_type": "stream",
          "name": "stdout",
          "text": [
            "original tensor = \n",
            "  tensor([[0.7937, 0.0346],\n",
            "        [0.1535, 0.8068]])\n",
            "\n",
            "permuted  \n",
            " tensor([[0.7937, 0.1535],\n",
            "        [0.0346, 0.8068]])\n"
          ]
        }
      ]
    },
    {
      "cell_type": "code",
      "source": [
        "tensor1 = torch.rand(size=(2,3,4))\n",
        "tensor1_permuted = tensor1.permute(2,0,1) # -> (4,2,1)\n",
        "print(\"original tensor = \\n \", tensor1)\n",
        "print(\"\\npermuted  \\n\",tensor1_permuted)"
      ],
      "metadata": {
        "colab": {
          "base_uri": "https://localhost:8080/"
        },
        "id": "0qleWtSGfHli",
        "outputId": "0d8367db-6338-482c-a760-a359409c707b"
      },
      "execution_count": 30,
      "outputs": [
        {
          "output_type": "stream",
          "name": "stdout",
          "text": [
            "original tensor = \n",
            "  tensor([[[0.5200, 0.3904, 0.4797, 0.7252],\n",
            "         [0.2892, 0.9453, 0.2575, 0.8815],\n",
            "         [0.7860, 0.5757, 0.1846, 0.4398]],\n",
            "\n",
            "        [[0.6027, 0.8728, 0.0673, 0.1388],\n",
            "         [0.7771, 0.3168, 0.6154, 0.3184],\n",
            "         [0.9823, 0.3713, 0.7856, 0.6424]]])\n",
            "\n",
            "permuted  \n",
            " tensor([[[0.5200, 0.2892, 0.7860],\n",
            "         [0.6027, 0.7771, 0.9823]],\n",
            "\n",
            "        [[0.3904, 0.9453, 0.5757],\n",
            "         [0.8728, 0.3168, 0.3713]],\n",
            "\n",
            "        [[0.4797, 0.2575, 0.1846],\n",
            "         [0.0673, 0.6154, 0.7856]],\n",
            "\n",
            "        [[0.7252, 0.8815, 0.4398],\n",
            "         [0.1388, 0.3184, 0.6424]]])\n"
          ]
        }
      ]
    },
    {
      "cell_type": "markdown",
      "source": [
        "## Application of permute is when we want a different order of tensor,\n",
        "# ex NCHW to NHWC format\n"
      ],
      "metadata": {
        "id": "1UkjEaxVkXv_"
      }
    },
    {
      "cell_type": "code",
      "source": [
        "\n",
        "import torch\n",
        "# Simulate a tensor in NCHW format\n",
        "x = torch.randn(8, 3, 224, 224)  # 8 images, 3 channels, 224x224\n",
        "\n",
        "# Convert to NHWC format\n",
        "x_nhwc = x.permute(0, 2, 3, 1)  # Now shape is (8, 224, 224, 3)\n",
        "print(f\"x shape {x.shape}, x_nhwc shape = {x_nhwc.shape}\")\n"
      ],
      "metadata": {
        "colab": {
          "base_uri": "https://localhost:8080/"
        },
        "id": "ZNGSZuBugXWA",
        "outputId": "dec5a64e-d6c0-454e-870f-b043fcf3dd16"
      },
      "execution_count": 32,
      "outputs": [
        {
          "output_type": "stream",
          "name": "stdout",
          "text": [
            "x shape torch.Size([8, 3, 224, 224]), x_nhwc shape = torch.Size([8, 224, 224, 3])\n"
          ]
        }
      ]
    },
    {
      "cell_type": "markdown",
      "source": [
        "### Pytorch Tensors and Numpy\n"
      ],
      "metadata": {
        "id": "43vFl8Oulkn5"
      }
    },
    {
      "cell_type": "code",
      "source": [
        "# NumPy array to tensor\n",
        "import torch\n",
        "import numpy as np\n",
        "array = np.arange(1.0, 8.0)\n",
        "tensor = torch.from_numpy(array)\n",
        "array, tensor"
      ],
      "metadata": {
        "colab": {
          "base_uri": "https://localhost:8080/"
        },
        "id": "ollbl4aqkhgy",
        "outputId": "48a131ad-fc2d-432a-e42c-766c0fa566cc"
      },
      "execution_count": 33,
      "outputs": [
        {
          "output_type": "execute_result",
          "data": {
            "text/plain": [
              "(array([1., 2., 3., 4., 5., 6., 7.]),\n",
              " tensor([1., 2., 3., 4., 5., 6., 7.], dtype=torch.float64))"
            ]
          },
          "metadata": {},
          "execution_count": 33
        }
      ]
    },
    {
      "cell_type": "code",
      "source": [
        "!nvidia-smi\n"
      ],
      "metadata": {
        "colab": {
          "base_uri": "https://localhost:8080/"
        },
        "id": "nfihqd8UmGIn",
        "outputId": "091d1edf-2623-4a6f-a1ec-ab4437a896b9"
      },
      "execution_count": 1,
      "outputs": [
        {
          "output_type": "stream",
          "name": "stdout",
          "text": [
            "Fri Oct 31 04:49:37 2025       \n",
            "+-----------------------------------------------------------------------------------------+\n",
            "| NVIDIA-SMI 550.54.15              Driver Version: 550.54.15      CUDA Version: 12.4     |\n",
            "|-----------------------------------------+------------------------+----------------------+\n",
            "| GPU  Name                 Persistence-M | Bus-Id          Disp.A | Volatile Uncorr. ECC |\n",
            "| Fan  Temp   Perf          Pwr:Usage/Cap |           Memory-Usage | GPU-Util  Compute M. |\n",
            "|                                         |                        |               MIG M. |\n",
            "|=========================================+========================+======================|\n",
            "|   0  Tesla T4                       Off |   00000000:00:04.0 Off |                    0 |\n",
            "| N/A   45C    P8             10W /   70W |       0MiB /  15360MiB |      0%      Default |\n",
            "|                                         |                        |                  N/A |\n",
            "+-----------------------------------------+------------------------+----------------------+\n",
            "                                                                                         \n",
            "+-----------------------------------------------------------------------------------------+\n",
            "| Processes:                                                                              |\n",
            "|  GPU   GI   CI        PID   Type   Process name                              GPU Memory |\n",
            "|        ID   ID                                                               Usage      |\n",
            "|=========================================================================================|\n",
            "|  No running processes found                                                             |\n",
            "+-----------------------------------------------------------------------------------------+\n"
          ]
        }
      ]
    },
    {
      "cell_type": "code",
      "source": [
        "import torch\n",
        "torch.cuda.is_available()"
      ],
      "metadata": {
        "colab": {
          "base_uri": "https://localhost:8080/"
        },
        "id": "kGw40sosmJ25",
        "outputId": "07490bcf-db04-4714-c6c0-3a1f6cfb4a5f"
      },
      "execution_count": 2,
      "outputs": [
        {
          "output_type": "execute_result",
          "data": {
            "text/plain": [
              "True"
            ]
          },
          "metadata": {},
          "execution_count": 2
        }
      ]
    },
    {
      "cell_type": "code",
      "source": [
        "# Count number of devices\n",
        "torch.cuda.device_count()"
      ],
      "metadata": {
        "colab": {
          "base_uri": "https://localhost:8080/"
        },
        "id": "vM9QCRdrmi9x",
        "outputId": "e21f7ee1-5c76-4cb3-e2bd-4a6a9dd18552"
      },
      "execution_count": 3,
      "outputs": [
        {
          "output_type": "execute_result",
          "data": {
            "text/plain": [
              "1"
            ]
          },
          "metadata": {},
          "execution_count": 3
        }
      ]
    },
    {
      "cell_type": "code",
      "source": [
        "if torch.cuda.is_available():\n",
        "    device = \"cuda\" # Use NVIDIA GPU (if available)\n",
        "elif torch.backends.mps.is_available():\n",
        "    device = \"mps\" # Use Apple Silicon GPU (if available)\n",
        "else:\n",
        "    device = \"cpu\" # Default to CPU if no GPU is available"
      ],
      "metadata": {
        "id": "4FfBjUBQmtYt"
      },
      "execution_count": 4,
      "outputs": []
    },
    {
      "cell_type": "code",
      "source": [
        "# Create tensor (default on CPU)\n",
        "tensor = torch.tensor([1, 2, 3])\n",
        "\n",
        "# Tensor not on GPU\n",
        "print(tensor, tensor.device)\n",
        "\n",
        "# Move tensor to GPU (if available)\n",
        "tensor_on_gpu = tensor.to(device)\n",
        "tensor_on_gpu"
      ],
      "metadata": {
        "colab": {
          "base_uri": "https://localhost:8080/"
        },
        "id": "I5wytzLImyP9",
        "outputId": "727d3d07-2dfc-4f64-f749-352f455633c1"
      },
      "execution_count": 5,
      "outputs": [
        {
          "output_type": "stream",
          "name": "stdout",
          "text": [
            "tensor([1, 2, 3]) cpu\n"
          ]
        },
        {
          "output_type": "execute_result",
          "data": {
            "text/plain": [
              "tensor([1, 2, 3], device='cuda:0')"
            ]
          },
          "metadata": {},
          "execution_count": 5
        }
      ]
    },
    {
      "cell_type": "markdown",
      "source": [
        "### Moving tensor to cpu"
      ],
      "metadata": {
        "id": "Rz8Kz7AFm5Xo"
      }
    },
    {
      "cell_type": "code",
      "source": [
        "# If tensor is on GPU, can't transform it to NumPy (this will error)\n",
        "tensor_on_gpu.cpu().numpy()"
      ],
      "metadata": {
        "colab": {
          "base_uri": "https://localhost:8080/"
        },
        "id": "phl8MjyJm2ki",
        "outputId": "d6672c33-25f0-4c9d-c655-a2279a32ecee"
      },
      "execution_count": 7,
      "outputs": [
        {
          "output_type": "execute_result",
          "data": {
            "text/plain": [
              "array([1, 2, 3])"
            ]
          },
          "metadata": {},
          "execution_count": 7
        }
      ]
    },
    {
      "cell_type": "code",
      "source": [],
      "metadata": {
        "id": "iHXm2WB0m-LF"
      },
      "execution_count": null,
      "outputs": []
    }
  ]
}