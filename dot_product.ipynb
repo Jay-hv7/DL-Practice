{
  "nbformat": 4,
  "nbformat_minor": 0,
  "metadata": {
    "colab": {
      "provenance": [],
      "authorship_tag": "ABX9TyNs3jcn6iQg8f7pNIwHJm0G",
      "include_colab_link": true
    },
    "kernelspec": {
      "name": "python3",
      "display_name": "Python 3"
    },
    "language_info": {
      "name": "python"
    }
  },
  "cells": [
    {
      "cell_type": "markdown",
      "metadata": {
        "id": "view-in-github",
        "colab_type": "text"
      },
      "source": [
        "<a href=\"https://colab.research.google.com/github/Jay-hv7/DL-Practice/blob/main/dot_product.ipynb\" target=\"_parent\"><img src=\"https://colab.research.google.com/assets/colab-badge.svg\" alt=\"Open In Colab\"/></a>"
      ]
    },
    {
      "cell_type": "code",
      "execution_count": 1,
      "metadata": {
        "id": "MZBVFsc_vjZs"
      },
      "outputs": [],
      "source": [
        "import numpy as np\n"
      ]
    },
    {
      "cell_type": "markdown",
      "source": [
        "# dot product between two vectors"
      ],
      "metadata": {
        "id": "dim-scdA0XYN"
      }
    },
    {
      "cell_type": "code",
      "source": [
        "vec1 = [1.0, 2.0, 3.0]\n",
        "vec2 = [1.0, 2.0, 3.0]\n",
        "dot_prod = np.dot(vec1, vec2)\n",
        "print(dot_prod)"
      ],
      "metadata": {
        "colab": {
          "base_uri": "https://localhost:8080/"
        },
        "id": "ITLdeeHuwSej",
        "outputId": "6b8282b9-79fb-487e-c2d9-91c8aa4147a0"
      },
      "execution_count": 2,
      "outputs": [
        {
          "output_type": "stream",
          "name": "stdout",
          "text": [
            "2.8\n"
          ]
        }
      ]
    },
    {
      "cell_type": "code",
      "source": [
        "# change the order of dot product"
      ],
      "metadata": {
        "id": "B7Lema6Uwk0r"
      },
      "execution_count": 3,
      "outputs": []
    },
    {
      "cell_type": "code",
      "source": [
        "dot_prod_reverse = np.dot(vec2, vec1)\n",
        "print(dot_prod_reverse)"
      ],
      "metadata": {
        "colab": {
          "base_uri": "https://localhost:8080/"
        },
        "id": "2CNmnQBNwpij",
        "outputId": "ecfce120-bc4b-45be-9807-271ba2070915"
      },
      "execution_count": 4,
      "outputs": [
        {
          "output_type": "stream",
          "name": "stdout",
          "text": [
            "2.8\n"
          ]
        }
      ]
    },
    {
      "cell_type": "code",
      "source": [
        "vec1 = [1.0, 2.0, 3.0]\n",
        "vec2 = [0.2, 0.4, 0.6]\n",
        "bias = 2.0\n",
        "dot_prod = np.dot(vec1, vec2) + bias\n",
        "dot_prod_reverse = np.dot(vec2, vec1) + bias\n",
        "\n",
        "print(dot_prod)\n",
        "print(dot_prod_reverse)"
      ],
      "metadata": {
        "colab": {
          "base_uri": "https://localhost:8080/"
        },
        "id": "Jmrxyk9cxDiO",
        "outputId": "ddc62504-f051-4185-d402-369f9cdc377e"
      },
      "execution_count": 5,
      "outputs": [
        {
          "output_type": "stream",
          "name": "stdout",
          "text": [
            "4.8\n",
            "4.8\n"
          ]
        }
      ]
    },
    {
      "cell_type": "markdown",
      "source": [
        "### np.dot(a,b) = np.dot(b,a) # dot product between vectors"
      ],
      "metadata": {
        "id": "I4hLGx6ew9tP"
      }
    },
    {
      "cell_type": "markdown",
      "source": [
        "# dot product between vector and matrix"
      ],
      "metadata": {
        "id": "Ai3hWXEx0RYP"
      }
    },
    {
      "cell_type": "code",
      "source": [
        "input = [1.0, 2.0, 3.0] # (1,3)\n",
        "w = [[1.0, 2.0, 3.0],    # (3,3)\n",
        "        [1.0, 3.0, 2.0],\n",
        "        [2.0, 2.0, 3.0]]\n",
        "dot_prod = np.dot(input, w) # ---1,3\n",
        "print(dot_prod)\n"
      ],
      "metadata": {
        "colab": {
          "base_uri": "https://localhost:8080/"
        },
        "id": "Dj2Ofcj9ww_1",
        "outputId": "9590a7e3-b420-48dc-f89f-dac50c8605cf"
      },
      "execution_count": 8,
      "outputs": [
        {
          "output_type": "stream",
          "name": "stdout",
          "text": [
            "[ 9. 14. 16.]\n"
          ]
        }
      ]
    },
    {
      "cell_type": "code",
      "source": [
        "dot_prod_reverse = np.dot(w,input) # 3,3 X 1,3"
      ],
      "metadata": {
        "colab": {
          "base_uri": "https://localhost:8080/"
        },
        "id": "cT4mtINUyGww",
        "outputId": "2815ebb3-0113-4bea-ac9d-56a8d6e1a3e9"
      },
      "execution_count": 9,
      "outputs": [
        {
          "output_type": "stream",
          "name": "stdout",
          "text": [
            "[14. 13. 15.]\n"
          ]
        }
      ]
    },
    {
      "cell_type": "markdown",
      "source": [
        "np.dot(vec,matrix) != np.dot(matrix,vec)\n",
        "\n",
        "\n"
      ],
      "metadata": {
        "id": "MI2RVHLpz4k5"
      }
    },
    {
      "cell_type": "markdown",
      "source": [
        "# dot product between matrix"
      ],
      "metadata": {
        "id": "6FJzZBcs0KDb"
      }
    },
    {
      "cell_type": "code",
      "source": [
        "in1 = [[1.0, 2.0, 3.0],    # (3,3)\n",
        "        [2.0, 3.0, 4.0],\n",
        "        [5.0, 6.0, 7.0]]\n",
        "w = [[1.0, 2.0, 3.0],    # (3,3)\n",
        "        [1.0, 3.0, 2.0],\n",
        "        [2.0, 2.0, 3.0]]\n",
        "dot_prod = np.dot(in1, w) # ---3,3\n",
        "print(dot_prod)"
      ],
      "metadata": {
        "colab": {
          "base_uri": "https://localhost:8080/"
        },
        "id": "udmRo3Zw0MfX",
        "outputId": "fdf008d8-df88-4809-bdbc-ccc7e5c70f6e"
      },
      "execution_count": 13,
      "outputs": [
        {
          "output_type": "stream",
          "name": "stdout",
          "text": [
            "[[ 9. 14. 16.]\n",
            " [13. 21. 24.]\n",
            " [25. 42. 48.]]\n"
          ]
        }
      ]
    },
    {
      "cell_type": "code",
      "source": [
        "in1 = [[1.0, 2.0, 3.0],    # (3,3)\n",
        "        [2.0, 3.0, 4.0],\n",
        "        [5.0, 6.0, 7.0]]\n",
        "w = [[1.0, 2.0, 3.0],    # (3,3)\n",
        "        [1.0, 3.0, 2.0],\n",
        "        [2.0, 2.0, 3.0]]\n",
        "dot_prod_rev = np.dot(w,in1) # ---3,3\n",
        "print(dot_prod_rev)"
      ],
      "metadata": {
        "colab": {
          "base_uri": "https://localhost:8080/"
        },
        "id": "5J5p4bFA0jks",
        "outputId": "2d7646db-df4b-4874-c3ea-87965675ff5f"
      },
      "execution_count": 14,
      "outputs": [
        {
          "output_type": "stream",
          "name": "stdout",
          "text": [
            "[[20. 26. 32.]\n",
            " [17. 23. 29.]\n",
            " [21. 28. 35.]]\n"
          ]
        }
      ]
    },
    {
      "cell_type": "markdown",
      "source": [
        "### np.dot(matrix1, matrix2) != np.dot(matrix2,matrix1)"
      ],
      "metadata": {
        "id": "AqXfWKZL0_OJ"
      }
    },
    {
      "cell_type": "code",
      "source": [],
      "metadata": {
        "id": "L-EVqa2T0vwT"
      },
      "execution_count": null,
      "outputs": []
    }
  ]
}